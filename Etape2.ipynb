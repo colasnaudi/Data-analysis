{
 "cells": [
  {
   "cell_type": "markdown",
   "metadata": {},
   "source": [
    "<div align=\"center\">\n",
    "    <h2>S2.02 Exploration algorithmique d'un problème</h2>\n",
    "    <h3>Etape 2</h3>\n",
    "    <h3>Colas NAUDI - Mathis HERIVEAU (TD1-TP1)</h3>\n",
    "</div>"
   ]
  },
  {
   "cell_type": "markdown",
   "metadata": {},
   "source": [
    "#### Import des modules"
   ]
  },
  {
   "cell_type": "code",
   "execution_count": null,
   "metadata": {},
   "outputs": [],
   "source": [
    "import json\n",
    "from math import sin, cos, acos"
   ]
  },
  {
   "cell_type": "markdown",
   "metadata": {},
   "source": [
    "#### A : importer les donnees du fichier JSON dans un dictionnaire donneesbus"
   ]
  },
  {
   "cell_type": "code",
   "execution_count": 12,
   "metadata": {},
   "outputs": [],
   "source": [
    "with open('donneesbus.json') as json_file:\n",
    "    donneesbus = json.load(json_file)"
   ]
  },
  {
   "cell_type": "markdown",
   "metadata": {},
   "source": [
    "#### B : Créer une liste noms_arrets contenants le noms des arrêts"
   ]
  },
  {
   "cell_type": "code",
   "execution_count": 13,
   "metadata": {},
   "outputs": [],
   "source": [
    "noms_arrets=list(donneesbus.keys())"
   ]
  },
  {
   "cell_type": "markdown",
   "metadata": {},
   "source": [
    "#### C : Créer les fonctions"
   ]
  },
  {
   "cell_type": "code",
   "execution_count": 14,
   "metadata": {},
   "outputs": [],
   "source": [
    "def nom(ind):\n",
    "    \"\"\"Retourne le nom de l'arrêt à l'indice ind\n",
    "\n",
    "    :param ind: indice de l'arrêt\n",
    "    :type ind: int\n",
    "    :return: un nom\n",
    "    :rtype: str\n",
    "    \"\"\"\n",
    "    return noms_arrets[ind]\n",
    "\n",
    "\n",
    "def indice_som(nom_som):\n",
    "    \"\"\"Retourne l'indice de l'arrêt de nom nom_som\n",
    "\n",
    "    :param nom_som: nom de l'arrêt\n",
    "    :type nom_som: str\n",
    "    :return: un indice\n",
    "    :rtype: int\n",
    "    \"\"\"\n",
    "    return noms_arrets.index(nom_som)\n",
    "\n",
    "def latitude(nom_som):\n",
    "    \"\"\"Retourne la latitude de l'arrêt de nom nom_som\n",
    "\n",
    "    :param nom_som: nom de l'arrêt\n",
    "    :type nom_som: str\n",
    "    :return: une latitude\n",
    "    :rtype: float\n",
    "    \"\"\"\n",
    "    return donneesbus[nom_som][0]\n",
    "\n",
    "def longitude(nom_som):\n",
    "    \"\"\"Retourne la longitude de l'arrêt de nom nom_som\n",
    "\n",
    "    :param nom_som: nom de l'arrêt\n",
    "    :type nom_som: str\n",
    "    :return: une longitude\n",
    "    :rtype: float\n",
    "    \"\"\"\n",
    "    return donneesbus[nom_som][1]\n",
    "\n",
    "def voisin(nom_som):\n",
    "    \"\"\"Retourne la liste des voisins de l'arrêt de nom nom_som\n",
    "\n",
    "    :param nom_som: nom de l'arrêt\n",
    "    :type nom_som: str\n",
    "    :return: une liste de noms d'arrêts\n",
    "    :rtype: list\n",
    "    \"\"\"\n",
    "    return donneesbus[nom_som][2]"
   ]
  },
  {
   "cell_type": "markdown",
   "metadata": {},
   "source": [
    "#### D : Le réseau du bus peut être modélisé par des graphes"
   ]
  },
  {
   "cell_type": "markdown",
   "metadata": {},
   "source": [
    "##### Par un dictionnaire  "
   ]
  },
  {
   "cell_type": "code",
   "execution_count": 15,
   "metadata": {},
   "outputs": [],
   "source": [
    "# ~~~~~~~~~~~~~~~~~~~~~~~ Création du dictionnaire vide ~~~~~~~~~~~~~~~~~~~~~~ #\n",
    "dic_bus = {}\n",
    "for arret in noms_arrets:\n",
    "    # ~~~~~~~~~~~~~~~~~~~~ Pour chaque arret dans noms_arrets ~~~~~~~~~~~~~~~~~~~~ #\n",
    "    # ~~~~~~~~~~ On crée une liste vide qui a pour clé le nom de l'arrêt ~~~~~~~~~ #\n",
    "    dic_bus[arret] = []\n",
    "    for arret2 in noms_arrets:\n",
    "        # ~~~~~~~~~~~~~ Pour chaque arret2 dans noms_arrets ~~~~~~~~~~~~~~~~~~~~~ #\n",
    "        if arret2 in voisin(arret):\n",
    "            # ~~~~~~~~~~~~~~~ Si arret2 est dans la liste des voisins ~~~~~~~~~~~~~ #\n",
    "            dic_bus[arret].append(arret2)"
   ]
  },
  {
   "cell_type": "markdown",
   "metadata": {},
   "source": [
    "##### Par une liste de liste "
   ]
  },
  {
   "cell_type": "code",
   "execution_count": 16,
   "metadata": {},
   "outputs": [],
   "source": [
    "# ~~~~~~~~~~~~~~~~~~~~~~~~~ Création d'une liste vide ~~~~~~~~~~~~~~~~~~~~~~~~ #\n",
    "mat_bus = []\n",
    "for arret in noms_arrets:\n",
    "    # ~~~~~~~~~~~~~~~~~~~~ Pour chaque arret dans noms_arrets ~~~~~~~~~~~~~~~~~~~~ #\n",
    "    # ~~~~~~~~~~~~~~~~~~~~~~~~~ On crée une liste vide ~~~~~~~~~~~~~~~~~~~~~~~~~~~ #\n",
    "    liste = []\n",
    "    for arret2 in noms_arrets:\n",
    "        # ~~~~~~~~~~~~~ Pour chaque arret2 dans noms_arrets ~~~~~~~~~~~~~~~~~~~~~ #\n",
    "        if arret2 in voisin(arret):\n",
    "            # ~~~~~~~~~~~~~~~ Si arret2 est dans la liste des voisins ~~~~~~~~~~~~~ #\n",
    "            liste.append(1)\n",
    "        else:\n",
    "            # ~~~~~~~~~~~~~~~ Si arret2 n'est pas dans la liste des voisins ~~~~~~~~~~~~~~~ #\n",
    "            liste.append(0)\n",
    "    # ~~~~~~~~~~~~~~~~~ Ajouter la liste liste à la liste mat_bus ~~~~~~~~~~~~~~~~ #\n",
    "    mat_bus.append(liste)"
   ]
  },
  {
   "cell_type": "markdown",
   "metadata": {},
   "source": [
    "#### E : Distance "
   ]
  },
  {
   "cell_type": "code",
   "execution_count": 17,
   "metadata": {},
   "outputs": [],
   "source": [
    "def distanceGPS(latA,latB,longA,longB): \n",
    "    # Conversions des latitudes en radians \n",
    "    ltA=latA/180*3.14\n",
    "    ltB=latB/180*3.14\n",
    "    loA=longA/180*3.14\n",
    "    loB=longB/180*3.14\n",
    "    # Rayon de la terre en mètres (sphère IAG-GRS80) \n",
    "    RT = 6378137 \n",
    "    # angle en radians entre les 2 points  \n",
    "    S = acos(round(sin(ltA)*sin(ltB) + cos(ltA)*cos(ltB)*cos(abs(loB-loA)),14)) \n",
    "    # distance entre les 2 points, comptée sur un arc de grand cercle \n",
    "    return S*RT \n",
    "\n",
    "def distarrets(arret1, arret2):\n",
    "    \"\"\"Retourne la distance entre les arrêts arret1 et arret2\n",
    "\n",
    "    :param arret1 : nom de l'arrêt 1\n",
    "    :type : str\n",
    "    :param arret2 : nom de l'arrêt 2\n",
    "    :type : str\n",
    "    :return: distance entre les deux arrêts\n",
    "    :rtype: float\n",
    "    \"\"\"\n",
    "    return(round(distanceGPS(latitude(arret1),latitude(arret2),longitude(arret1),longitude(arret2))))\n",
    "\n",
    "def distarc(arret1, arret2):\n",
    "    \"\"\"Retourne la distance entre les arrêts arret1 et arret2 s'il existe sinon retourne 'inf'\n",
    "\n",
    "    :param arret1 : nom de l'arrêt 1\n",
    "    :type : str\n",
    "    :param arret2 : nom de l'arrêt 2\n",
    "    :type : str\n",
    "    :return: distance entre les deux arrêts\n",
    "    :rtype: float\n",
    "    \"\"\"\n",
    "    if arret2 in voisin(arret1):\n",
    "        return(distarrets(arret1, arret2))\n",
    "    else:\n",
    "        return float(\"inf\")"
   ]
  },
  {
   "cell_type": "markdown",
   "metadata": {},
   "source": [
    "#### F : Modélisation par un graphe pondéré  "
   ]
  },
  {
   "cell_type": "code",
   "execution_count": 18,
   "metadata": {},
   "outputs": [],
   "source": [
    "poids_bus = []\n",
    "for arret in noms_arrets:\n",
    "    # ~~ Pour chaque arret dans noms_arrets, on l'ajoute dans la liste poids_bus ~ #\n",
    "    # ~~~~~~~~~~~~~~~~~~~~~~~~ Puis on crée une liste vide ~~~~~~~~~~~~~~~~~~~~~~~ #\n",
    "    liste = []\n",
    "    for arret2 in noms_arrets:\n",
    "        # ~~~~~ On regarde si l'arret2 est dans la liste des voisins de l'arret1 ~~~~~ #\n",
    "        if arret2 in voisin(arret):\n",
    "            # ~~~~~ Si oui, on ajoute la distance entre les deux arrêts dans la liste ~~~~ #\n",
    "            liste.append(distarc(arret, arret2))\n",
    "        else:\n",
    "            # ~~~~~~~~~~~~~~~~~~~~~~~~~~~ Sinon on ajoute 'inf' ~~~~~~~~~~~~~~~~~~~~~~~~~~ #\n",
    "            liste.append(float(\"inf\"))\n",
    "    # ~~~~~~~~~~~~~~~~~~~~~~~~ On ajoute la liste à la liste poids_bus ~~~~~~~~~~~~~~~~~~ #\n",
    "    poids_bus.append(liste)"
   ]
  },
  {
   "cell_type": "markdown",
   "metadata": {},
   "source": [
    "## Étape 2"
   ]
  },
  {
   "cell_type": "markdown",
   "metadata": {},
   "source": [
    "#### Test\n",
    "> 7PUI -> HOUN = 347m\n",
    ">\n",
    "> HOUN -> HBRD = 313m\n",
    ">\n",
    "> 7PUI -> HOUN -> HBRD = 660m\n",
    ">\n",
    "> BALI -> SOUS -> BASQ-PDB -> HDVBAY = 969m\n",
    ">\n",
    "> STLE -> LACH -> MARO -> VILL -> BEYR -> UNION -> LEMB -> BRNM = 2366m "
   ]
  },
  {
   "cell_type": "markdown",
   "metadata": {},
   "source": [
    "#### Dijkstra"
   ]
  },
  {
   "cell_type": "code",
   "execution_count": 45,
   "metadata": {},
   "outputs": [
    {
     "name": "stdout",
     "output_type": "stream",
     "text": [
      "Le chemin permettant d'aller de BALI jusqu'à HDVBAY est : BALI -> SOUS -> BASQ-PDB -> HDVBAY \n",
      "Le trajet comptera 4 arrets. \n",
      "La distance entre ces 2 arrets est de : 969 m.\n"
     ]
    }
   ],
   "source": [
    "def extract_min(lst):\n",
    "    \"\"\"Retourne le sommet de poids minimum de la liste lst\n",
    "    \n",
    "    :param lst : liste des arrets\n",
    "    :type lst: list\n",
    "    :return: le sommet de poids minimum\n",
    "    :rtype: int\n",
    "    \"\"\"\n",
    "    \n",
    "    minS = 100000\n",
    "    valS = 100000\n",
    "    for i in range (len(lst)):\n",
    "        if (lst[i] < valS):\n",
    "            minS = i\n",
    "            valS = lst[i]\n",
    "    return(minS)\n",
    "\n",
    "def djikstra(arret_dep, arret_arriv):\n",
    "    \"\"\"Calcule le plus court chemin entre deux points arret_dep et arret_ariv\n",
    "    en utilisant l'algorithme de Djikstra\n",
    "    :param arret_dep: arret de départ\n",
    "    :type arret_dep: str\n",
    "    :param arret_arriv: arret d'arrivée\n",
    "    :type arret_arriv: str\n",
    "    :return: une liste d'arrêts, la distance minimum\n",
    "    :rtype: list, int\n",
    "    \"\"\"\n",
    "    # ~~~~~~~~~~~~~~~~ Déclaration et initialisation des variables ~~~~~~~~~~~~~~~ #\n",
    "    dist=[]\n",
    "    pred=[]\n",
    "    a_traiter=[]\n",
    "    lst=[]\n",
    "    som=indice_som(arret_dep)\n",
    "    compteur = 0\n",
    "\n",
    "    for i in range(len(poids_bus)):\n",
    "        dist.append(float('inf'))\n",
    "        lst.append(float('inf'))\n",
    "        pred.append(float('inf'))\n",
    "        a_traiter.append(i)\n",
    "    \n",
    "    a_traiter.remove(indice_som(arret_dep)) # On enlève l'arret de départ de la liste des arrets à traiter\n",
    "    pred[som] = som # On met le prédécesseur de l'arret de départ à lui-même\n",
    "    dist[som] = 0 # On met la distance de l'arret de départ à 0\n",
    "    \n",
    "    # ~~~~~~~~~~~~~~~~ Boucle tant qu'il y a des sommets à traiter ~~~~~~~~~~~~~~~ #\n",
    "    while(len(a_traiter) != 0):\n",
    "    # ~~~~~~~~~~~~~~~~~~~~~~~~~~~ Initialisation liste ~~~~~~~~~~~~~~~~~~~~~~~~~~~ #\n",
    "        for i in range(len(poids_bus)):\n",
    "            lst[i] = (float('inf'))\n",
    "    # ~~~~~~~~~~~~~~~~ Les poids de chaque arc commencant par som ~~~~~~~~~~~~~~~~ #\n",
    "        for i in range(len(poids_bus)):\n",
    "            if(i in a_traiter):\n",
    "                lst[i] = (poids_bus[som][i])\n",
    "    \n",
    "    # ~~~~~~~~ Comparaison de la dist du sommet avec la nouvelle distance ~~~~~~~~ #\n",
    "        for i in range(len(lst)):\n",
    "            if(lst[i] < float('inf')):\n",
    "                if(dist[i] > (dist[som]+lst[i])):\n",
    "                    pred[i] = som\n",
    "                    dist[i]\n",
    "                    dist[i] = dist[som]+lst[i]\n",
    "        # ~~~~~~~~~~~~~~~~~~~~~~~~~~~~~ Re initialisation ~~~~~~~~~~~~~~~~~~~~~~~~~~~~ #\n",
    "        for i in range(len(poids_bus)):\n",
    "            lst[i] = (float('inf'))\n",
    "        # ~~~~~~~~~~~~~~~~~~ La distance des poids encore à traiter ~~~~~~~~~~~~~~~~~~ #\n",
    "        for i in (a_traiter):\n",
    "            lst[i] = dist[i]\n",
    "        # ~~~~~~~~~~~~~~~~ Initialisation du nouveau sommet a traiter ~~~~~~~~~~~~~~~~ #\n",
    "        som = extract_min(lst)\n",
    "        a_traiter.remove(som)\n",
    "        compteur = compteur+1\n",
    "        \n",
    "    # ~~~~~~~~ Liste des arrets du chemin (avec arret_dep et arret_arriv) ~~~~~~~~ #\n",
    "    chemin = []\n",
    "    som = indice_som(arret_arriv)\n",
    "    while som != indice_som(arret_dep):\n",
    "        chemin.append(nom(som))\n",
    "        som = pred[som]\n",
    "    chemin.append(arret_dep)\n",
    "    chemin.reverse()\n",
    "    \n",
    "    # Affichage des résultats\n",
    "    print(\"Le chemin permettant d'aller de\", arret_dep, \"jusqu'à\",arret_arriv, \"est :\",str(chemin).replace(\"[\",\"\").replace(\"'\",\"\").replace(\", \",\" -> \").replace(\"]\",\"\"),\"\\nLe trajet comptera\", len(chemin), \"arrets.\" ,\"\\nLa distance entre ces 2 arrets est de :\", dist[indice_som(arret_arriv)],\"m.\")\n",
    "# ~~~~~~~~~~~~~~~~~~~~~~~~~~~~~~~~~~~ APPEL ~~~~~~~~~~~~~~~~~~~~~~~~~~~~~~~~~~ #\n",
    "arret_dep = input(\"Entrer l'arret de départ : \")\n",
    "arret_arriv = input(\"Entrer l'arret d'arrivée : \")\n",
    "djikstra(arret_dep, arret_arriv)"
   ]
  },
  {
   "cell_type": "markdown",
   "metadata": {},
   "source": [
    "#### Bellman"
   ]
  },
  {
   "cell_type": "code",
   "execution_count": 44,
   "metadata": {},
   "outputs": [
    {
     "name": "stdout",
     "output_type": "stream",
     "text": [
      "Le chemin permettant d'aller de BALI jusqu'à HDVBAY est : BALI -> SOUS -> BASQ-PDB -> HDVBAY \n",
      "Le trajet comptera 4 arrets. \n",
      "La distance entre ces 2 arrets est de : 969 m.\n"
     ]
    }
   ],
   "source": [
    "def Belmann(arret_dep,arret_arriv):\n",
    "    \"\"\"Calcule le plus court chemin entre deux arrêts arret_dep et arret_arriv\n",
    "    en utilisant l'algorithme de Bellman-Ford\n",
    "    :param arret_dep: arret de départ\n",
    "    :type arret_dep: str\n",
    "    :param arret_arriv: arret d'arrivée\n",
    "    :type arret_arriv: str\n",
    "    :return: une liste d'arrêts, la distance minimum\n",
    "    :rtype: list, int\n",
    "    \"\"\"\n",
    "    #Création la liste des prédecesseurs\n",
    "    pred = [None]*len(noms_arrets)\n",
    "    #Création la liste des distances\n",
    "    dist = [None]*len(noms_arrets)\n",
    "\n",
    "    #Initialisation des listes\n",
    "    for i in range(len(noms_arrets)):\n",
    "        pred[i] = None\n",
    "        dist[i] = float(\"inf\")\n",
    "    \n",
    "    dist[indice_som(arret_dep)] = 0\n",
    "\n",
    "    #Boucle de Bellman\n",
    "    for i in range(len(noms_arrets)-1):\n",
    "        for j in noms_arrets:\n",
    "            for k in voisin(j):\n",
    "                if dist[indice_som(j)] + poids_bus[indice_som(j)][indice_som(k)] < dist[indice_som(k)]:\n",
    "                    dist[indice_som(k)] = dist[indice_som(j)] + poids_bus[indice_som(j)][indice_som(k)]\n",
    "                    pred[indice_som(k)] = j\n",
    "    \n",
    "    #Création de la liste des arrêts parcourus\n",
    "    arret_fin = arret_arriv\n",
    "    chemin = []\n",
    "    chemin.append(arret_fin)\n",
    "    while pred[indice_som(arret_fin)] != None:\n",
    "        chemin.append(pred[indice_som(arret_fin)])\n",
    "        arret_fin = pred[indice_som(arret_fin)]\n",
    "    chemin.reverse()\n",
    "    \n",
    "    print (\"Le chemin permettant d'aller de\", arret_dep, \"jusqu'à\",arret_arriv, \"est :\",str(chemin).replace(\"[\",\"\").replace(\"'\",\"\").replace(\", \",\" -> \").replace(\"]\",\"\"),\"\\nLe trajet comptera\", len(chemin), \"arrets.\" ,\"\\nLa distance entre ces 2 arrets est de :\", dist[indice_som(arret_arriv)],\"m.\")\n",
    "\n",
    "    \n",
    "arret_dep = input(\"Arret dep :\")\n",
    "arret_arriv = input(\"Arret fin :\")\n",
    "Belmann(arret_dep, arret_arriv)"
   ]
  },
  {
   "cell_type": "markdown",
   "metadata": {},
   "source": [
    "#### Floyd Warshall"
   ]
  },
  {
   "cell_type": "code",
   "execution_count": 43,
   "metadata": {},
   "outputs": [
    {
     "name": "stdout",
     "output_type": "stream",
     "text": [
      "Le chemin permettant d'aller de BALI jusqu'à HDVBAY est : BALI -> SOUS -> BASQ-PDB -> HDVBAY \n",
      "Le trajet comptera 4 arrets. \n",
      "La distance entre ces 2 arrets est de : 969 m.\n"
     ]
    }
   ],
   "source": [
    "def FloydWarshall(arret_dep,arret_arriv):\n",
    "    \"\"\"Calcule le plus court chemin entre deux arrêts arret_dep et arret_arriv\n",
    "    en utilisant l'algorithme de Floyd-Warshall\n",
    "    :param arret_dep: arret de départ\n",
    "    :type arret_dep: str\n",
    "    :param arret_arriv: arret d'arrivée\n",
    "    :type arret_arriv: str\n",
    "    :return: une liste d'arrêts, la distance minimum\n",
    "    :rtype: list, int\n",
    "    \"\"\"\n",
    "    #Création de la matrice Mk\n",
    "    Mk = []\n",
    "    for i in range(len(noms_arrets)):\n",
    "        Mk.append([])\n",
    "        for j in range(len(noms_arrets)):\n",
    "            if i == j:\n",
    "                Mk[i].append(0)\n",
    "            else:\n",
    "                Mk[i].append(float(\"inf\"))\n",
    "    \n",
    "    #Initialisation de la matrice Mk\n",
    "    for i in range(len(noms_arrets)):\n",
    "        for j in voisin(noms_arrets[i]):\n",
    "            Mk[indice_som(noms_arrets[i])][indice_som(j)] = poids_bus[indice_som(noms_arrets[i])][indice_som(j)]\n",
    "    #Création de la matrice Pk\n",
    "    Pk = []\n",
    "    for i in range(len(noms_arrets)):\n",
    "        Pk.append([])\n",
    "        for j in range(len(noms_arrets)):\n",
    "            Pk[i].append(None)\n",
    "\n",
    "    #Initialisation de la matrice Pk\n",
    "    for i in range(len(noms_arrets)):\n",
    "        for j in voisin(noms_arrets[i]):\n",
    "            Pk[indice_som(j)][indice_som(noms_arrets[i])] = noms_arrets[i]\n",
    "    \n",
    "    #Boucle de Floyd-Warshall\n",
    "    for k in range(len(noms_arrets)):\n",
    "        #Création de la liste colonnes\n",
    "        colonnes = []\n",
    "        for i in range(len(noms_arrets)):\n",
    "                if i != k and Mk[i][k] != float(\"inf\"):\n",
    "                    colonnes.append(i)          \n",
    "            \n",
    "        #Creation de la liste lignes\n",
    "        lignes = []\n",
    "        for i in range(len(noms_arrets)):\n",
    "            if i != k and Mk[k][i] != float(\"inf\"):\n",
    "                lignes.append(i)\n",
    "        \n",
    "        #Boucle de calcul de Mk\n",
    "        for i in colonnes:\n",
    "            for j in lignes:\n",
    "                if Mk[i][k] + Mk[k][j] < Mk[i][j]:\n",
    "                    Mk[i][j] = Mk[i][k] + Mk[k][j]\n",
    "                    Pk[i][j] = Pk[i][k]\n",
    "        \n",
    "    \n",
    "    #Création de la liste des arrêts parcourus\n",
    "    parcours = []\n",
    "    arret_fin = arret_arriv\n",
    "    parcours.append(arret_fin)\n",
    "    while Pk[indice_som(arret_fin)][indice_som(arret_dep)] != None:\n",
    "        parcours.append(Pk[indice_som(arret_fin)][indice_som(arret_dep)])\n",
    "        arret_fin = Pk[indice_som(arret_fin)][indice_som(arret_dep)]\n",
    "    parcours.reverse()\n",
    "    \n",
    "\n",
    "    print(\"Le chemin permettant d'aller de\", arret_dep, \"jusqu'à\",arret_arriv, \"est :\",str(parcours).replace(\"[\",\"\").replace(\"'\",\"\").replace(\", \",\" -> \").replace(\"]\",\"\"),\"\\nLe trajet comptera\", len(parcours), \"arrets.\" ,\"\\nLa distance entre ces 2 arrets est de :\", Mk[indice_som(arret_arriv)][indice_som(arret_dep)],\"m.\")\n",
    "\n",
    "\n",
    "arret_dep = input(\"Arret dep :\")\n",
    "arret_arriv = input(\"Arret fin :\")\n",
    "FloydWarshall(arret_dep, arret_arriv)"
   ]
  },
  {
   "cell_type": "markdown",
   "metadata": {},
   "source": [
    "#### A*"
   ]
  },
  {
   "cell_type": "code",
   "execution_count": null,
   "metadata": {},
   "outputs": [],
   "source": [
    "def A_star(arret_dep, arret_arriv):\n",
    "    \"\"\"Calcule le plus court chemin entre deux arrêts arret_dep et arret_arriv\n",
    "    en utilisant l'algorithme A*\n",
    "    :param arret_dep: arret de départ\n",
    "    :type arret_dep: str\n",
    "    :param arret_arriv: arret d'arrivée\n",
    "    :type arret_arriv: str\n",
    "    :return: une liste d'arrêts, la distance minimum\n",
    "    :rtype: list, int\n",
    "    \"\"\"\n",
    "    print (\"A_star\")\n",
    "\n",
    "arret_dep = input(\"Arret dep :\")\n",
    "arret_arriv = input(\"Arret fin :\")\n",
    "A_star(arret_dep, arret_arriv)"
   ]
  }
 ],
 "metadata": {
  "interpreter": {
   "hash": "7e1998ff7f8aa20ada591c520b972326324e5ea05489af9e422744c7c09f6dad"
  },
  "kernelspec": {
   "display_name": "Python 3.10.2 64-bit",
   "language": "python",
   "name": "python3"
  },
  "language_info": {
   "codemirror_mode": {
    "name": "ipython",
    "version": 3
   },
   "file_extension": ".py",
   "mimetype": "text/x-python",
   "name": "python",
   "nbconvert_exporter": "python",
   "pygments_lexer": "ipython3",
   "version": "3.10.2"
  },
  "orig_nbformat": 4
 },
 "nbformat": 4,
 "nbformat_minor": 2
}
