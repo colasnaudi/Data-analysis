{
 "cells": [
  {
   "cell_type": "markdown",
   "metadata": {},
   "source": [
    "<div align=\"center\">\n",
    "    <h2>S2.02 Exploration algorithmique d'un problème</h2>\n",
    "    <h3>Etape 2</h3>\n",
    "</div>"
   ]
  },
  {
   "cell_type": "markdown",
   "metadata": {},
   "source": [
    "> Dans ce projet nous allons utiliser des algorithmes de recherche de plus court chemins entre deux points (Dijkstra, Bellman, FloysWarhsall, A*)."
   ]
  },
  {
   "cell_type": "markdown",
   "metadata": {},
   "source": [
    "#### Import des modules"
   ]
  },
  {
   "cell_type": "code",
   "execution_count": 1,
   "metadata": {},
   "outputs": [],
   "source": [
    "import json\n",
    "from math import sin, cos, acos"
   ]
  },
  {
   "cell_type": "markdown",
   "metadata": {},
   "source": [
    "#### A : importer les donnees du fichier JSON dans un dictionnaire donneesbus"
   ]
  },
  {
   "cell_type": "code",
   "execution_count": 2,
   "metadata": {},
   "outputs": [],
   "source": [
    "with open('Fichiers/donneesbus.json') as json_file:\n",
    "    donneesbus = json.load(json_file)"
   ]
  },
  {
   "cell_type": "markdown",
   "metadata": {},
   "source": [
    "#### B : Créer une liste noms_arrets contenants le noms des arrêts"
   ]
  },
  {
   "cell_type": "code",
   "execution_count": 3,
   "metadata": {},
   "outputs": [],
   "source": [
    "noms_arrets=list(donneesbus.keys())"
   ]
  },
  {
   "cell_type": "markdown",
   "metadata": {},
   "source": [
    "#### C : Créer les fonctions"
   ]
  },
  {
   "cell_type": "code",
   "execution_count": 4,
   "metadata": {},
   "outputs": [],
   "source": [
    "def nom(ind):\n",
    "    \"\"\"Retourne le nom de l'arrêt à l'indice ind\n",
    "\n",
    "    :param ind: indice de l'arrêt\n",
    "    :type ind: int\n",
    "    :return: un nom\n",
    "    :rtype: str\n",
    "    \"\"\"\n",
    "    return noms_arrets[ind]\n",
    "\n",
    "\n",
    "def indice_som(nom_som):\n",
    "    \"\"\"Retourne l'indice de l'arrêt de nom nom_som\n",
    "\n",
    "    :param nom_som: nom de l'arrêt\n",
    "    :type nom_som: str\n",
    "    :return: un indice\n",
    "    :rtype: int\n",
    "    \"\"\"\n",
    "    return noms_arrets.index(nom_som)\n",
    "\n",
    "def latitude(nom_som):\n",
    "    \"\"\"Retourne la latitude de l'arrêt de nom nom_som\n",
    "\n",
    "    :param nom_som: nom de l'arrêt\n",
    "    :type nom_som: str\n",
    "    :return: une latitude\n",
    "    :rtype: float\n",
    "    \"\"\"\n",
    "    return donneesbus[nom_som][0]\n",
    "\n",
    "def longitude(nom_som):\n",
    "    \"\"\"Retourne la longitude de l'arrêt de nom nom_som\n",
    "\n",
    "    :param nom_som: nom de l'arrêt\n",
    "    :type nom_som: str\n",
    "    :return: une longitude\n",
    "    :rtype: float\n",
    "    \"\"\"\n",
    "    return donneesbus[nom_som][1]\n",
    "\n",
    "def voisin(nom_som):\n",
    "    \"\"\"Retourne la liste des voisins de l'arrêt de nom nom_som\n",
    "\n",
    "    :param nom_som: nom de l'arrêt\n",
    "    :type nom_som: str\n",
    "    :return: une liste de noms d'arrêts\n",
    "    :rtype: list\n",
    "    \"\"\"\n",
    "    return donneesbus[nom_som][2]"
   ]
  },
  {
   "cell_type": "markdown",
   "metadata": {},
   "source": [
    "#### D : Le réseau du bus peut être modélisé par des graphes"
   ]
  },
  {
   "cell_type": "markdown",
   "metadata": {},
   "source": [
    "#### Par un dictionnaire  "
   ]
  },
  {
   "cell_type": "code",
   "execution_count": 5,
   "metadata": {},
   "outputs": [],
   "source": [
    "# ~~~~~~~~~~~~~~~~~~~~~~~ Création du dictionnaire vide ~~~~~~~~~~~~~~~~~~~~~~ #\n",
    "dic_bus = {}\n",
    "for arret in noms_arrets:\n",
    "    # ~~~~~~~~~~~~~~~~~~~~ Pour chaque arret dans noms_arrets ~~~~~~~~~~~~~~~~~~~~ #\n",
    "    # ~~~~~~~~~~ On crée une liste vide qui a pour clé le nom de l'arrêt ~~~~~~~~~ #\n",
    "    dic_bus[arret] = []\n",
    "    for arret2 in noms_arrets:\n",
    "        # ~~~~~~~~~~~~~ Pour chaque arret2 dans noms_arrets ~~~~~~~~~~~~~~~~~~~~~ #\n",
    "        if arret2 in voisin(arret):\n",
    "            # ~~~~~~~~~~~~~~~ Si arret2 est dans la liste des voisins ~~~~~~~~~~~~~ #\n",
    "            dic_bus[arret].append(arret2)"
   ]
  },
  {
   "cell_type": "markdown",
   "metadata": {},
   "source": [
    "#### Par une liste de liste "
   ]
  },
  {
   "cell_type": "code",
   "execution_count": 6,
   "metadata": {},
   "outputs": [],
   "source": [
    "# ~~~~~~~~~~~~~~~~~~~~~~~~~ Création d'une liste vide ~~~~~~~~~~~~~~~~~~~~~~~~ #\n",
    "mat_bus = []\n",
    "for arret in noms_arrets:\n",
    "    # ~~~~~~~~~~~~~~~~~~~~ Pour chaque arret dans noms_arrets ~~~~~~~~~~~~~~~~~~~~ #\n",
    "    # ~~~~~~~~~~~~~~~~~~~~~~~~~ On crée une liste vide ~~~~~~~~~~~~~~~~~~~~~~~~~~~ #\n",
    "    liste = []\n",
    "    for arret2 in noms_arrets:\n",
    "        # ~~~~~~~~~~~~~ Pour chaque arret2 dans noms_arrets ~~~~~~~~~~~~~~~~~~~~~ #\n",
    "        if arret2 in voisin(arret):\n",
    "            # ~~~~~~~~~~~~~~~ Si arret2 est dans la liste des voisins ~~~~~~~~~~~~~ #\n",
    "            liste.append(1)\n",
    "        else:\n",
    "            # ~~~~~~~~~~~~~~~ Si arret2 n'est pas dans la liste des voisins ~~~~~~~~~~~~~~~ #\n",
    "            liste.append(0)\n",
    "    # ~~~~~~~~~~~~~~~~~ Ajouter la liste liste à la liste mat_bus ~~~~~~~~~~~~~~~~ #\n",
    "    mat_bus.append(liste)"
   ]
  },
  {
   "cell_type": "markdown",
   "metadata": {},
   "source": [
    "#### E : Distance "
   ]
  },
  {
   "cell_type": "code",
   "execution_count": 7,
   "metadata": {},
   "outputs": [],
   "source": [
    "def distanceGPS(latA,latB,longA,longB): \n",
    "    # Conversions des latitudes en radians \n",
    "    ltA=latA/180*3.14\n",
    "    ltB=latB/180*3.14\n",
    "    loA=longA/180*3.14\n",
    "    loB=longB/180*3.14\n",
    "    # Rayon de la terre en mètres (sphère IAG-GRS80) \n",
    "    RT = 6378137 \n",
    "    # angle en radians entre les 2 points  \n",
    "    S = acos(round(sin(ltA)*sin(ltB) + cos(ltA)*cos(ltB)*cos(abs(loB-loA)),14)) \n",
    "    # distance entre les 2 points, comptée sur un arc de grand cercle \n",
    "    return S*RT \n",
    "\n",
    "def distarrets(arret1, arret2):\n",
    "    \"\"\"Retourne la distance entre les arrêts arret1 et arret2\n",
    "\n",
    "    :param arret1 : nom de l'arrêt 1\n",
    "    :type : str\n",
    "    :param arret2 : nom de l'arrêt 2\n",
    "    :type : str\n",
    "    :return: distance entre les deux arrêts\n",
    "    :rtype: float\n",
    "    \"\"\"\n",
    "    return(round(distanceGPS(latitude(arret1),latitude(arret2),longitude(arret1),longitude(arret2))))\n",
    "\n",
    "def distarc(arret1, arret2):\n",
    "    \"\"\"Retourne la distance entre les arrêts arret1 et arret2 s'il existe sinon retourne 'inf'\n",
    "\n",
    "    :param arret1 : nom de l'arrêt 1\n",
    "    :type : str\n",
    "    :param arret2 : nom de l'arrêt 2\n",
    "    :type : str\n",
    "    :return: distance entre les deux arrêts\n",
    "    :rtype: float\n",
    "    \"\"\"\n",
    "    if arret2 in voisin(arret1):\n",
    "        return(distarrets(arret1, arret2))\n",
    "    else:\n",
    "        return float(\"inf\")"
   ]
  },
  {
   "cell_type": "markdown",
   "metadata": {},
   "source": [
    "#### F : Modélisation par un graphe pondéré  "
   ]
  },
  {
   "cell_type": "code",
   "execution_count": 8,
   "metadata": {},
   "outputs": [],
   "source": [
    "poids_bus = []\n",
    "for arret in noms_arrets:\n",
    "    # ~~ Pour chaque arret dans noms_arrets, on l'ajoute dans la liste poids_bus ~ #\n",
    "    # ~~~~~~~~~~~~~~~~~~~~~~~~ Puis on crée une liste vide ~~~~~~~~~~~~~~~~~~~~~~~ #\n",
    "    liste = []\n",
    "    for arret2 in noms_arrets:\n",
    "        # ~~~~~ On regarde si l'arret2 est dans la liste des voisins de l'arret1 ~~~~~ #\n",
    "        if arret2 in voisin(arret):\n",
    "            # ~~~~~ Si oui, on ajoute la distance entre les deux arrêts dans la liste ~~~~ #\n",
    "            liste.append(distarc(arret, arret2))\n",
    "        else:\n",
    "            # ~~~~~~~~~~~~~~~~~~~~~~~~~~~ Sinon on ajoute 'inf' ~~~~~~~~~~~~~~~~~~~~~~~~~~ #\n",
    "            liste.append(float(\"inf\"))\n",
    "    # ~~~~~~~~~~~~~~~~~~~~~~~~ On ajoute la liste à la liste poids_bus ~~~~~~~~~~~~~~~~~~ #\n",
    "    poids_bus.append(liste)"
   ]
  },
  {
   "cell_type": "markdown",
   "metadata": {},
   "source": [
    "## Étape 2"
   ]
  },
  {
   "cell_type": "markdown",
   "metadata": {},
   "source": [
    "#### Dijkstra\n",
    "\n",
    "#### Test\n",
    "> 7PUI -> HOUN = 347m\n",
    ">\n",
    "> HOUN -> HBRD = 313m\n",
    ">\n",
    "> 7PUI -> HOUN -> HBRD = 660m"
   ]
  },
  {
   "cell_type": "code",
   "execution_count": 9,
   "metadata": {},
   "outputs": [
    {
     "name": "stdout",
     "output_type": "stream",
     "text": [
      "\n",
      "Pour aller de  7PUI à HBRD le chemin est : ['7PUI', 'HOUN', 'HBRD'] \n",
      "La longeur du chemin est de 660 mètres en passant par 3 arrêts\n"
     ]
    }
   ],
   "source": [
    "def extract_min(lst):\n",
    "    \"\"\"Retourne le sommet de poids minimum de la liste lst\n",
    "    \n",
    "    :param lst : liste des arrets\n",
    "    :type lst: list\n",
    "    :return: le sommet de poids minimum\n",
    "    :rtype: int\n",
    "    \"\"\"\n",
    "    \n",
    "    minS = 100000\n",
    "    valS = 100000\n",
    "    for i in range (len(lst)):\n",
    "        if (lst[i] < valS):\n",
    "            minS = i\n",
    "            valS = lst[i]\n",
    "    return(minS)\n",
    "\n",
    "def djikstra(arret_dep, arret_arriv):\n",
    "    \"\"\"Calcule le plus court chemin entre deux points arret_dep et arret_ariv\n",
    "    \n",
    "    :param arret_dep: arret de départ\n",
    "    :type arret_dep: str\n",
    "    :param arret_arriv: arret d'arrivée\n",
    "    :type arret_arriv: str\n",
    "    :return: une liste d'arrêts, la distance minimum\n",
    "    :rtype: list, int\n",
    "    \"\"\"\n",
    "    # ~~~~~~~~~~~~~~~~ Déclaration et initialisation des variables ~~~~~~~~~~~~~~~ #\n",
    "    dist=[]\n",
    "    pred=[]\n",
    "    a_traiter=[]\n",
    "    lst=[]\n",
    "    som=indice_som(arret_dep)\n",
    "    compteur = 0\n",
    "\n",
    "    for i in range(len(poids_bus)):\n",
    "        dist.append(float('inf'))\n",
    "        lst.append(float('inf'))\n",
    "        pred.append(float('inf'))\n",
    "        a_traiter.append(i)\n",
    "    \n",
    "    a_traiter.remove(indice_som(arret_dep)) # On enlève l'arret de départ de la liste des arrets à traiter\n",
    "    pred[som] = som # On met le prédécesseur de l'arret de départ à lui-même\n",
    "    dist[som] = 0 # On met la distance de l'arret de départ à 0\n",
    "    \n",
    "    # ~~~~~~~~~~~~~~~~ Boucle tant qu'il y a des sommets à traiter ~~~~~~~~~~~~~~~ #\n",
    "    while(len(a_traiter) != 0):\n",
    "    # ~~~~~~~~~~~~~~~~~~~~~~~~~~~ Initialisation liste ~~~~~~~~~~~~~~~~~~~~~~~~~~~ #\n",
    "        for i in range(len(poids_bus)):\n",
    "            lst[i] = (float('inf'))\n",
    "    # ~~~~~~~~~~~~~~~~ Les poids de chaque arc commencant par som ~~~~~~~~~~~~~~~~ #\n",
    "        for i in range(len(poids_bus)):\n",
    "            if(i in a_traiter):\n",
    "                lst[i] = (poids_bus[som][i])\n",
    "    \n",
    "    # ~~~~~~~~ Comparaison de la dist du sommet avec la nouvelle distance ~~~~~~~~ #\n",
    "        for i in range(len(lst)):\n",
    "            if(lst[i] < float('inf')):\n",
    "                if(dist[i] > (dist[som]+lst[i])):\n",
    "                    pred[i] = som\n",
    "                    dist[i]\n",
    "                    dist[i] = dist[som]+lst[i]\n",
    "        # ~~~~~~~~~~~~~~~~~~~~~~~~~~~~~ Re initialisation ~~~~~~~~~~~~~~~~~~~~~~~~~~~~ #\n",
    "        for i in range(len(poids_bus)):\n",
    "            lst[i] = (float('inf'))\n",
    "        # ~~~~~~~~~~~~~~~~~~ La distance des poids encore à traiter ~~~~~~~~~~~~~~~~~~ #\n",
    "        for i in (a_traiter):\n",
    "            lst[i] = dist[i]\n",
    "        # ~~~~~~~~~~~~~~~~ Initialisation du nouveau sommet a traiter ~~~~~~~~~~~~~~~~ #\n",
    "        som = extract_min(lst)\n",
    "        a_traiter.remove(som)\n",
    "        compteur = compteur+1\n",
    "        \n",
    "    # ~~~~~~~~ Liste des arrets du chemin (avec arret_dep et arret_arriv) ~~~~~~~~ #\n",
    "    chemin = []\n",
    "    som = indice_som(arret_arriv)\n",
    "    while som != indice_som(arret_dep):\n",
    "        chemin.append(nom(som))\n",
    "        som = pred[som]\n",
    "    chemin.append(arret_dep)\n",
    "    chemin.reverse()\n",
    "    \n",
    "    # Affichage des résultats\n",
    "    print (\"\\nPour aller de\", arret_dep, \"à\", arret_arriv,\"le chemin est :\", chemin, \"\\nLa longeur du chemin est de\", dist[indice_som(arret_arriv)], \"mètres en passant par\", len(chemin), \"arrêts\")\n",
    "\n",
    "# ~~~~~~~~~~~~~~~~~~~~~~~~~~~~~~~~~~~ APPEL ~~~~~~~~~~~~~~~~~~~~~~~~~~~~~~~~~~ #\n",
    "arret_dep = input(\"Entrer l'arret de départ : \")\n",
    "arret_arriv = input(\"Entrer l'arret d'arrivée : \")\n",
    "djikstra(arret_dep, arret_arriv)"
   ]
  },
  {
   "cell_type": "markdown",
   "metadata": {},
   "source": [
    "#### Bellman"
   ]
  },
  {
   "cell_type": "code",
   "execution_count": 10,
   "metadata": {},
   "outputs": [
    {
     "name": "stdout",
     "output_type": "stream",
     "text": [
      "Le chemin permettant d'aller de 7PUI jusqu'à HBRD est : 7PUI->HOUN->HBRD \n",
      "Le trajet comptera 3 arrets. \n",
      "La distance entre ces 2 arrets est de : 660 m.\n"
     ]
    }
   ],
   "source": [
    "def Belmann(arret_dep,arret_arriv):\n",
    "    #Ces fonctions prennent en paramètres \n",
    "    #les deux arrêts et renvoient le plus court chemin, sous forme de la liste des arrêts parcourus ainsi, que la distance minimum.\n",
    "    \n",
    "    #Création la liste des prédecesseurs\n",
    "    pred = [None]*len(noms_arrets)\n",
    "    #Création la liste des distances\n",
    "    dist = [None]*len(noms_arrets)\n",
    "\n",
    "    #Initialisation des listes\n",
    "    for i in range(len(noms_arrets)):\n",
    "        pred[i] = None\n",
    "        dist[i] = float(\"inf\")\n",
    "    \n",
    "    dist[indice_som(arret_dep)] = 0\n",
    "\n",
    "    #Boucle de Bellman\n",
    "    for i in range(len(noms_arrets)-1):\n",
    "        for j in noms_arrets:\n",
    "            for k in voisin(j):\n",
    "                if dist[indice_som(j)] + poids_bus[indice_som(j)][indice_som(k)] < dist[indice_som(k)]:\n",
    "                    dist[indice_som(k)] = dist[indice_som(j)] + poids_bus[indice_som(j)][indice_som(k)]\n",
    "                    pred[indice_som(k)] = j\n",
    "    \n",
    "    #Création de la liste des arrêts parcourus\n",
    "    arret_fin = arret_arriv\n",
    "    chemin = []\n",
    "    chemin.append(arret_arriv)\n",
    "    while pred[indice_som(arret_arriv)] != None:\n",
    "        chemin.append(pred[indice_som(arret_arriv)])\n",
    "        arret_arriv = pred[indice_som(arret_arriv)]\n",
    "    chemin.reverse()\n",
    "    \n",
    "    print (\"Le chemin permettant d'aller de\", arret_dep, \"jusqu'à\",arret_fin, \"est :\",str(chemin).replace(\"[\",\"\").replace(\"'\",\"\").replace(\", \",\"->\").replace(\"]\",\"\"),\"\\nLe trajet comptera\", len(chemin), \"arrets.\" ,\"\\nLa distance entre ces 2 arrets est de :\", dist[indice_som(arret_fin)],\"m.\")\n",
    "\n",
    "    \n",
    "arret_dep = input(\"Arret dep :\")\n",
    "arret_arriv = input(\"Arret fin :\")\n",
    "Belmann(arret_dep, arret_arriv)"
   ]
  },
  {
   "cell_type": "markdown",
   "metadata": {},
   "source": [
    "#### Floyd Warshall"
   ]
  }
 ],
 "metadata": {
  "interpreter": {
   "hash": "7e1998ff7f8aa20ada591c520b972326324e5ea05489af9e422744c7c09f6dad"
  },
  "kernelspec": {
   "display_name": "Python 3.10.2 64-bit",
   "language": "python",
   "name": "python3"
  },
  "language_info": {
   "codemirror_mode": {
    "name": "ipython",
    "version": 3
   },
   "file_extension": ".py",
   "mimetype": "text/x-python",
   "name": "python",
   "nbconvert_exporter": "python",
   "pygments_lexer": "ipython3",
   "version": "3.10.2"
  },
  "orig_nbformat": 4
 },
 "nbformat": 4,
 "nbformat_minor": 2
}
